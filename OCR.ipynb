!pip install easyocr
import easyocr
import cv2
import numpy as np
    reader = easyocr.Reader(['en','ur'], gpu=False)
    results = reader.readtext(temp_file.name)
