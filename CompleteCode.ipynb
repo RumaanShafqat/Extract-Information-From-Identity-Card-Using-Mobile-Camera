!pip install flask
!pip install easyocr
!pip install flask-ngrok
!pip install pyngrok
!ngrok authtoken 2QasvW27baI358AXmwVGAcDrzEp_3QaJrrwXNiXfgC9vBKMTy
pip install pillow
pip install dateparser
pip install opencv-python
from flask import Flask, render_template, request
import os
import base64
import tempfile
import io
from PIL import Image
import easyocr
import re
import cv2
import numpy as np
import matplotlib.pyplot as plt
import dateparser
from pyngrok import ngrok

templates_folder = "/content/drive/MyDrive/Colab Notebooks/templates"
app = Flask(__name__, template_folder=templates_folder)

#here is the function of fetching face from Identity Card
def detect_face(image_path):
    # Load the cascade classifier
    face_cascade = cv2.CascadeClassifier(cv2.data.haarcascades + 'haarcascade_frontalface_default.xml')

    # Read the input image
    image = cv2.imread(image_path)

    # Convert to grayscale
    gray = cv2.cvtColor(image, cv2.COLOR_BGR2GRAY)

    # Perform face detection
    faces = face_cascade.detectMultiScale(gray, scaleFactor=1.1, minNeighbors=10, minSize=(30, 30))

    # Iterate over detected faces
    for (x, y, w, h) in faces:
        # Extract the face region from the image
        face = image[y:y+h, x:x+w]

        # Convert the NumPy array to PIL Image
        pil_image = Image.fromarray(face)

        # Resize the image to passport size (2x2 inches)
        target_size = (280, 280)
        resizedd_image = pil_image.resize(target_size)
        return resizedd_image
#here is the function of enhancing the Quality of Identity Card
def enhance_image(image_path):
    # Read the image
    image = cv2.imread(image_path)
    if image is None:
        raise ValueError("Failed to load the image. Please check the file path.")
    # Apply a bilateral filter to enhance edges while reducing noise
    filtered_image = cv2.bilateralFilter(image, 9, 75, 75)
    # Apply a sharpening filter to enhance details
    kernel = np.array([[-1, -1, -1],
                       [-1,  9, -1],
                       [-1, -1, -1]])
    sharpened_image = cv2.filter2D(filtered_image, -1, kernel)
    # Apply gamma correction to adjust brightness
    gamma = 0.7
    adjusted_image = np.power(sharpened_image / 255.0, gamma)
    adjusted_image = (adjusted_image * 255).astype(np.uint8)
    return adjusted_image

#remove words having no use in this project
def remove_words(extracted_text, words_to_remove):
    pattern = r'\b(?:{})\b'.format('|'.join(map(re.escape, words_to_remove)))
    filtered_text = re.sub(pattern, '', extracted_text)
    return filtered_text
#Fuction for getting Name
def extract_name(filtered_text):
    name_match = re.search(r"(?<=Name\s)[A-Za-z\s]+", filtered_text)
    if name_match:
        name = name_match.group(0)
    else:
        name = "Not found"
    return name
#Fuction for getting Father Name
def extract_father_name(filtered_text):
    father_name_match = re.search(r"Father Name\s+([A-Za-z\s]+)", filtered_text)
    if father_name_match:
        father_name = father_name_match.group(1)
    else:
        father_name = "Not found"
    return father_name
#Fuction for getting Gender
def extract_gender(filtered_text):
    gender = re.search(r"\s(M|F)\s", filtered_text)

    if gender:
        gender = gender.group(1)
    else:
        gender = "Not found"
    return gender
#Fuction for getting Identity card Number
def extract_identity_number(filtered_text):
    identity_number_match = re.search(r"Birth\s+([\d-]+)", filtered_text)
    if identity_number_match:
        identity_number = identity_number_match.group(1)
    else:
        identity_number = "Not found"
    return identity_number
#Fuction for getting Date of Birth
def extract_date_of_birth(filtered_text):
    # Find all possible date matches in the text
    date_matches = re.findall(r"\d{1,2}[.,-]\d{1,2}[.,-]\d{2,4}", filtered_text)
    if date_matches:
        # Iterate over the date matches and parse each one using dateparser
        for date_match in date_matches:
            parsed_date = dateparser.parse(date_match)
            if parsed_date is not None:
                date_of_birth = parsed_date.strftime("%Y-%m-%d")
            return date_of_birth
    return "Not found"

@app.route('/')
def index():
    return render_template('index.html')

@app.route('/upload', methods=['POST'])
def upload():
    #getting Image from INDEX.HTML
    image = request.files['image']
    image_path = './uploaded_image.jpg'
    image.save(image_path)
    #apply filters
    target_width = 760
    img = Image.open(image_path)
    width, height = img.size
    ratio = target_width / width
    target_height = int(height * ratio)
    resized_image = img.resize((target_width, target_height))
    resized_image.show()
    # Save the resized image to a temporary file
    with tempfile.NamedTemporaryFile(suffix='.jpg', delete=False) as temp_file:
        resized_image.save(temp_file.name)
    #Apply some image processing Filters
    enhanced_image = enhance_image(temp_file.name)
    enhanced_pil_image = Image.fromarray(enhanced_image)
    # Display the enhanced image
    enhanced_pil_image.show()
    #facecut
    # Face detection and resizing
    face_image = detect_face(temp_file.name)
    face_image_path = './face_image.jpeg'
    face_image.save(face_image_path)
    # Applying the OCR technique
    reader = easyocr.Reader(['en','ur'], gpu=False)
    results = reader.readtext(temp_file.name)
    #sending image to detect face
    #detect_face(temp_file.name)
    #removing the images
    #os.remove(image_path)
    #os.remove(temp_file.name)

    # Joining all OCR text result
    text = ' '.join([result[1] for result in results])
    words_to_remove = ["PAKISTAN", "National", "Identity", "Card","OF", "ISLAMIC", "REPUBLIC",  "Pakistan",
                       "Country of","Holder","Leiul","Signature","Stay",]
    filtered_text = remove_words(text, words_to_remove)
    print(filtered_text)

    #passing the parameters to Functions
    name = extract_name(filtered_text)
    father_name = extract_father_name(filtered_text)
    gender = extract_gender(filtered_text)
    identity_number = extract_identity_number(filtered_text)
    date_of_birth = extract_date_of_birth(filtered_text)
    #about face uploading
    # Save the resized face image to a temporary file
    with tempfile.NamedTemporaryFile(suffix='.jpg', delete=False) as temp_file:
       face_image.save(temp_file.name)
    # Read the face image file and encode it as base64
    with open(temp_file.name, "rb") as f:
        face_image_data = f.read()
        face_image_base64 = base64.b64encode(face_image_data).decode("utf-8")
    # Remove the temporary face image file
    os.remove(temp_file.name)
    #sending results to HTML
    return render_template('results.html', name=name, father_name=father_name,gender=gender, identity_number=identity_number, date_of_birth=date_of_birth,face_image=face_image_base64)
#making local host on pynrok
if __name__ == '__main__':
    ngrok_tunnel = ngrok.connect(5000)
    print('Public URL:', ngrok_tunnel.public_url)
    app.run()
